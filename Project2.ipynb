{
 "cells": [
  {
   "cell_type": "markdown",
   "id": "e3631a75",
   "metadata": {},
   "source": [
    "# Exploring Hacker News Post #\n",
    "\n",
    "- Hacker News is a site started by the startup Y Combinator, where users submits their own stories(known as \"posts\"), similar to reddit. Hacker News is extremely popular in technology and startup circles, and posts that make it to the top of the Hacker News listings can get hundreds of thousands of visitors as a result.\n",
    "- The goal of this project to analyze the data to determine the type of posts which rececives more comment and the certain time when created posts gets more comment.\n",
    "- We're specifically interested in the posts with titles that begin with **Ask HN** or **Show HN**. Users Submit **Ask HN** posts to ask Hacker News community a specific question. Likewise, users submit **Show HN** posts to show the Hacker News community a project, product, or just something interesting."
   ]
  },
  {
   "cell_type": "markdown",
   "id": "e4ccaa82",
   "metadata": {},
   "source": [
    "## Opening and Exploring Data ##\n",
    "\n",
    "- A [dataset](https://www.kaggle.com/hacker-news/hacker-news-posts) containing the data about the submissions (but note that we have reduced from 300,000 rows to approximatley 20,000 rows by removing all submissions that didn't rececive any comments and then randomly sampling from the remaining submissions.\n",
    "- Below are the descriptions of the columns:\n",
    "    - id : the unique identifier from Hacker News for the post\n",
    "    - title : the title of the posts\n",
    "    - url : the URL that the posts links to, if the post has a URL\n",
    "    - num_points : the number of points acquired by the posts , calculated as the total number of upvotes minus the number of downvotes\n",
    "    - num_comments : the number of comments on the posts\n",
    "    - author : the username of the person who submitted the post\n",
    "    - created_at : the date and time of post's submission\n",
    "- Let's start by opening the dataset and then continue with exploring the data:    "
   ]
  },
  {
   "cell_type": "code",
   "execution_count": 1,
   "id": "20d1387f",
   "metadata": {},
   "outputs": [
    {
     "name": "stdout",
     "output_type": "stream",
     "text": [
      "[['id', 'title', 'url', 'num_points', 'num_comments', 'author', 'created_at'], ['12224879', 'Interactive Dynamic Video', 'http://www.interactivedynamicvideo.com/', '386', '52', 'ne0phyte', '8/4/2016 11:52'], ['10975351', 'How to Use Open Source and Shut the Fuck Up at the Same Time', 'http://hueniverse.com/2016/01/26/how-to-use-open-source-and-shut-the-fuck-up-at-the-same-time/', '39', '10', 'josep2', '1/26/2016 19:30'], ['11964716', \"Florida DJs May Face Felony for April Fools' Water Joke\", 'http://www.thewire.com/entertainment/2013/04/florida-djs-april-fools-water-joke/63798/', '2', '1', 'vezycash', '6/23/2016 22:20'], ['11919867', 'Technology ventures: From Idea to Enterprise', 'https://www.amazon.com/Technology-Ventures-Enterprise-Thomas-Byers/dp/0073523429', '3', '1', 'hswarna', '6/17/2016 0:01']]\n"
     ]
    }
   ],
   "source": [
    "from csv import reader\n",
    "\n",
    "opened_file = open(\"/Users/jay/Documents/Guided Project_ Exploring Hacker News Posts/hacker_news.csv\")\n",
    "read_file = reader(opened_file)\n",
    "hn = list(read_file)\n",
    "\n",
    "print(hn[:5])"
   ]
  },
  {
   "cell_type": "code",
   "execution_count": 2,
   "id": "adde0421",
   "metadata": {},
   "outputs": [
    {
     "name": "stdout",
     "output_type": "stream",
     "text": [
      "['id', 'title', 'url', 'num_points', 'num_comments', 'author', 'created_at']\n",
      "[['12224879', 'Interactive Dynamic Video', 'http://www.interactivedynamicvideo.com/', '386', '52', 'ne0phyte', '8/4/2016 11:52'], ['10975351', 'How to Use Open Source and Shut the Fuck Up at the Same Time', 'http://hueniverse.com/2016/01/26/how-to-use-open-source-and-shut-the-fuck-up-at-the-same-time/', '39', '10', 'josep2', '1/26/2016 19:30'], ['11964716', \"Florida DJs May Face Felony for April Fools' Water Joke\", 'http://www.thewire.com/entertainment/2013/04/florida-djs-april-fools-water-joke/63798/', '2', '1', 'vezycash', '6/23/2016 22:20'], ['11919867', 'Technology ventures: From Idea to Enterprise', 'https://www.amazon.com/Technology-Ventures-Enterprise-Thomas-Byers/dp/0073523429', '3', '1', 'hswarna', '6/17/2016 0:01'], ['10301696', 'Note by Note: The Making of Steinway L1037 (2007)', 'http://www.nytimes.com/2007/11/07/movies/07stein.html?_r=0', '8', '2', 'walterbell', '9/30/2015 4:12']]\n"
     ]
    }
   ],
   "source": [
    "headers = hn[0]\n",
    "hn = hn[1:]\n",
    "print(headers)\n",
    "print(hn[:5])"
   ]
  },
  {
   "cell_type": "markdown",
   "id": "4f4cb3c2",
   "metadata": {},
   "source": [
    "## Extracting Ask HN and Show HN Posts ##\n",
    "\n",
    "- Now that we've removed headers from **hn**, we'll filter our data. Since we're only concerned with the post titles begining with **Ask HN** or **Show HN**, we'll create new lists of lists containing just the data for those titles."
   ]
  },
  {
   "cell_type": "code",
   "execution_count": 3,
   "id": "8ee9078b",
   "metadata": {},
   "outputs": [
    {
     "name": "stdout",
     "output_type": "stream",
     "text": [
      "1744\n",
      "1162\n",
      "17194\n"
     ]
    }
   ],
   "source": [
    "ask_posts = []\n",
    "show_posts = []\n",
    "other_posts = []\n",
    "\n",
    "for post in hn:\n",
    "    title = post[1]\n",
    "    \n",
    "    if title.lower().startswith(\"ask hn\"):\n",
    "        ask_posts.append(title)\n",
    "    elif title.lower().startswith(\"show hn\"):\n",
    "        show_posts.append(title)\n",
    "    else:\n",
    "        other_posts.append(title)\n",
    "\n",
    "print(len(ask_posts))\n",
    "print(len(show_posts))\n",
    "print(len(other_posts))"
   ]
  },
  {
   "cell_type": "markdown",
   "id": "ed57a29c",
   "metadata": {},
   "source": [
    "## Calculating the Average Number of Comments for Ask HN and Show HN Posts ##"
   ]
  },
  {
   "cell_type": "code",
   "execution_count": 5,
   "id": "d0fed24c",
   "metadata": {},
   "outputs": [
    {
     "name": "stdout",
     "output_type": "stream",
     "text": [
      "14.038417431192661\n"
     ]
    }
   ],
   "source": [
    "total_ask_comments = 0 \n",
    "\n",
    "for post in hn:\n",
    "    title = post[1]\n",
    "    num_comments = int(post[4])\n",
    "    \n",
    "    if title in ask_posts:\n",
    "        total_ask_comments += num_comments\n",
    "    \n",
    "\n",
    "avg_ask_comments = total_ask_comments / len(ask_posts)  \n",
    "print(avg_ask_comments)"
   ]
  },
  {
   "cell_type": "code",
   "execution_count": 6,
   "id": "5dad3a09",
   "metadata": {},
   "outputs": [
    {
     "name": "stdout",
     "output_type": "stream",
     "text": [
      "10.31669535283993\n"
     ]
    }
   ],
   "source": [
    "total_show_comments = 0 \n",
    "\n",
    "for post in hn:\n",
    "    title = post[1]\n",
    "    num_comments = int(post[4])\n",
    "    \n",
    "    if title in show_posts:\n",
    "        total_show_comments += num_comments\n",
    "        \n",
    "avg_show_comments = total_show_comments / len(show_posts)\n",
    "print(avg_show_comments)"
   ]
  },
  {
   "cell_type": "markdown",
   "id": "b2d89654",
   "metadata": {},
   "source": [
    "On average, ask posts in our sample receive approoximately 14 comments, whereas show posts rececive approximately 10. Since ask posts are more likely to receive comments, we'll focus our reamaining analysis just on this posts."
   ]
  },
  {
   "cell_type": "markdown",
   "id": "f8ff3f12",
   "metadata": {},
   "source": [
    "## Finding the Number of Ask Posts and Comments by Hour Created ##\n",
    "\n",
    "- Next We'll decide if ask posts created at a certain time are more likely to receive more comments. We'll use the following steps to perform this analysis:\n",
    "    - Calculate the number of ask posts created in each hour of the day, along with the number of comments received.\n",
    "    - Calculate the average number of comments ask posts receive by hour created."
   ]
  },
  {
   "cell_type": "code",
   "execution_count": 10,
   "id": "62e08d1b",
   "metadata": {},
   "outputs": [
    {
     "data": {
      "text/plain": [
       "{'09': 251,\n",
       " '13': 1253,\n",
       " '10': 793,\n",
       " '14': 1416,\n",
       " '16': 1814,\n",
       " '23': 543,\n",
       " '12': 687,\n",
       " '17': 1146,\n",
       " '15': 4477,\n",
       " '21': 1745,\n",
       " '20': 1722,\n",
       " '02': 1381,\n",
       " '18': 1439,\n",
       " '03': 421,\n",
       " '05': 464,\n",
       " '19': 1188,\n",
       " '01': 683,\n",
       " '22': 479,\n",
       " '08': 492,\n",
       " '04': 337,\n",
       " '00': 447,\n",
       " '06': 397,\n",
       " '07': 267,\n",
       " '11': 641}"
      ]
     },
     "execution_count": 10,
     "metadata": {},
     "output_type": "execute_result"
    }
   ],
   "source": [
    "import datetime as dt\n",
    "\n",
    "result_list = []\n",
    "\n",
    "for post in hn:\n",
    "    title = post[1]\n",
    "    created_at = post[6]\n",
    "    num_comments = int(post[4])\n",
    "    \n",
    "    if title in ask_posts:\n",
    "        result_list.append([created_at, num_comments])\n",
    "\n",
    "counts_by_hour = {}\n",
    "comments_by_hour = {}\n",
    "date_format = \"%m/%d/%Y %H:%M\"\n",
    "\n",
    "for row in result_list:\n",
    "    date = row[0]\n",
    "    comment = row[1]\n",
    "    time = dt.datetime.strptime(date, date_format).strftime(\"%H\")\n",
    "    \n",
    "    if time in counts_by_hour:\n",
    "        counts_by_hour[time] += 1\n",
    "        comments_by_hour[time] += comment\n",
    "    else:\n",
    "        counts_by_hour[time] = 1\n",
    "        comments_by_hour[time] = comment\n",
    "\n",
    "comments_by_hour        "
   ]
  },
  {
   "cell_type": "markdown",
   "id": "3d6dfa3a",
   "metadata": {},
   "source": [
    "## Calculating the Average Number of Comments for Ask HN Posts by Hour ##"
   ]
  },
  {
   "cell_type": "code",
   "execution_count": 12,
   "id": "6a59807b",
   "metadata": {},
   "outputs": [
    {
     "data": {
      "text/plain": [
       "[['09', 5.5777777777777775],\n",
       " ['13', 14.741176470588234],\n",
       " ['10', 13.440677966101696],\n",
       " ['14', 13.233644859813085],\n",
       " ['16', 16.796296296296298],\n",
       " ['23', 7.985294117647059],\n",
       " ['12', 9.41095890410959],\n",
       " ['17', 11.46],\n",
       " ['15', 38.5948275862069],\n",
       " ['21', 16.009174311926607],\n",
       " ['20', 21.525],\n",
       " ['02', 23.810344827586206],\n",
       " ['18', 13.20183486238532],\n",
       " ['03', 7.796296296296297],\n",
       " ['05', 10.08695652173913],\n",
       " ['19', 10.8],\n",
       " ['01', 11.383333333333333],\n",
       " ['22', 6.746478873239437],\n",
       " ['08', 10.25],\n",
       " ['04', 7.170212765957447],\n",
       " ['00', 8.127272727272727],\n",
       " ['06', 9.022727272727273],\n",
       " ['07', 7.852941176470588],\n",
       " ['11', 11.051724137931034]]"
      ]
     },
     "execution_count": 12,
     "metadata": {},
     "output_type": "execute_result"
    }
   ],
   "source": [
    "avg_by_hour = []\n",
    "\n",
    "for hr in comments_by_hour:\n",
    "    avg_by_hour.append([hr, comments_by_hour[hr]/counts_by_hour[hr]])\n",
    "\n",
    "avg_by_hour    "
   ]
  },
  {
   "cell_type": "markdown",
   "id": "e960c801",
   "metadata": {},
   "source": [
    "## Sorting and Printing Values from a List of Lists ##"
   ]
  },
  {
   "cell_type": "code",
   "execution_count": 14,
   "id": "38116d7c",
   "metadata": {},
   "outputs": [
    {
     "name": "stdout",
     "output_type": "stream",
     "text": [
      "[[5.5777777777777775, '09'], [14.741176470588234, '13'], [13.440677966101696, '10'], [13.233644859813085, '14'], [16.796296296296298, '16'], [7.985294117647059, '23'], [9.41095890410959, '12'], [11.46, '17'], [38.5948275862069, '15'], [16.009174311926607, '21'], [21.525, '20'], [23.810344827586206, '02'], [13.20183486238532, '18'], [7.796296296296297, '03'], [10.08695652173913, '05'], [10.8, '19'], [11.383333333333333, '01'], [6.746478873239437, '22'], [10.25, '08'], [7.170212765957447, '04'], [8.127272727272727, '00'], [9.022727272727273, '06'], [7.852941176470588, '07'], [11.051724137931034, '11']]\n",
      "[[38.5948275862069, '15'], [23.810344827586206, '02'], [21.525, '20'], [16.796296296296298, '16'], [16.009174311926607, '21'], [14.741176470588234, '13'], [13.440677966101696, '10'], [13.233644859813085, '14'], [13.20183486238532, '18'], [11.46, '17'], [11.383333333333333, '01'], [11.051724137931034, '11'], [10.8, '19'], [10.25, '08'], [10.08695652173913, '05'], [9.41095890410959, '12'], [9.022727272727273, '06'], [8.127272727272727, '00'], [7.985294117647059, '23'], [7.852941176470588, '07'], [7.796296296296297, '03'], [7.170212765957447, '04'], [6.746478873239437, '22'], [5.5777777777777775, '09']]\n"
     ]
    }
   ],
   "source": [
    "swap_avg_by_hour = []\n",
    "\n",
    "for row in avg_by_hour:\n",
    "    swap_avg_by_hour.append([row[1], row[0]])\n",
    "\n",
    "print(swap_avg_by_hour)\n",
    "\n",
    "sorted_swap = sorted(swap_avg_by_hour, reverse = True)\n",
    "\n",
    "print(sorted_swap)"
   ]
  },
  {
   "cell_type": "code",
   "execution_count": 19,
   "id": "d8551f84",
   "metadata": {},
   "outputs": [
    {
     "name": "stdout",
     "output_type": "stream",
     "text": [
      "Top 5 Hours for Ask Posts Comments:\n",
      "15:00: 38.59 average comments per post\n",
      "02:00: 23.81 average comments per post\n",
      "20:00: 21.52 average comments per post\n",
      "16:00: 16.80 average comments per post\n",
      "21:00: 16.01 average comments per post\n"
     ]
    }
   ],
   "source": [
    "# Sort the values and print the 5 hours with the highest average comments.\n",
    "\n",
    "print(\"Top 5 Hours for Ask Posts Comments:\")\n",
    "for avg,hr in sorted_swap[:5]:\n",
    "    print(\n",
    "    \"{}: {:.2f} average comments per post\".format(\n",
    "    dt.datetime.strptime(hr, \"%H\").strftime(\"%H:%M\"), avg\n",
    "    )\n",
    "    )"
   ]
  },
  {
   "cell_type": "markdown",
   "id": "0874b6c5",
   "metadata": {},
   "source": [
    "The hour that rececives the most comments per post on average is 15:00, with an average of 38.59comments per post. There's about a 60% increase in the number of comments between the highest and second highest average number of comments."
   ]
  },
  {
   "cell_type": "markdown",
   "id": "db2d26c4",
   "metadata": {},
   "source": [
    "According to the data set [documentation](https://www.kaggle.com/hacker-news/hacker-news-posts/home), the timezone is Eastern Time in US. According to Indian Standard Time, we could write 15:00 EST as 1:30 a.m. IST. "
   ]
  },
  {
   "cell_type": "markdown",
   "id": "2a71c4e0",
   "metadata": {},
   "source": [
    "## Conclusion ##\n",
    "\n",
    "In this project, we analyzed ask and show posts to determine which type of post and time rececive the most comments on average. Based on our analysis, to maximize the amount of comments a post receives, we'd recommend the post be categorised as Ask Post and created between 1:30 a.m. to 2:30 a.m IST.\n",
    "\n",
    "However , it should be noted that the dataset we analyzed excluded posts without any comments. Given that, it's more accurate to say that of the posts that rececived comments, ask posts comments received more comments on average and ask posts created between 1:30 a.m. and 2:30 a.m. IST. "
   ]
  }
 ],
 "metadata": {
  "kernelspec": {
   "display_name": "Python 3 (ipykernel)",
   "language": "python",
   "name": "python3"
  },
  "language_info": {
   "codemirror_mode": {
    "name": "ipython",
    "version": 3
   },
   "file_extension": ".py",
   "mimetype": "text/x-python",
   "name": "python",
   "nbconvert_exporter": "python",
   "pygments_lexer": "ipython3",
   "version": "3.9.7"
  }
 },
 "nbformat": 4,
 "nbformat_minor": 5
}
